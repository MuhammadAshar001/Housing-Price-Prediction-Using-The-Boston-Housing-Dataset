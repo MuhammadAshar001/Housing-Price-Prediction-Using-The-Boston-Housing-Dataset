{
 "cells": [
  {
   "cell_type": "markdown",
   "id": "681fff2e-156f-4be3-ab23-9d851b1b794a",
   "metadata": {},
   "source": [
    "# Housing Price Prediction\n",
    "This project aims to predict housing prices using a dataset of residential property features. It includes data preprocessing, normalization, and modeling using a custom-built Linear Regression model, as well as advanced machine learning algorithms like Random Forest and XGBoost. The goal is to compare model performances and understand how different approaches handle regression tasks."
   ]
  },
  {
   "cell_type": "markdown",
   "id": "8f1e78bd-874e-4cf9-b231-e66d7094eea2",
   "metadata": {},
   "source": [
    "## Importing Libraries and Dataset\n",
    "\n",
    "The required libraries are imported, including:\n",
    "- `pandas` and `numpy` for data handling,\n",
    "- `matplotlib` and `seaborn` for visualization, and\n",
    "- `sklearn` for splitting datasets and evaluation metrics.\n",
    "\n",
    "The dataset is loaded using `pd.read_csv()` and stored in a DataFrame for further processing."
   ]
  },
  {
   "cell_type": "code",
   "execution_count": 44,
   "id": "448fba5e-e2d1-4e5c-8661-443f3a03c92f",
   "metadata": {},
   "outputs": [],
   "source": [
    "import pandas as pd\n",
    "import numpy as np\n",
    "import matplotlib.pyplot as plt\n",
    "import seaborn as sns"
   ]
  },
  {
   "cell_type": "code",
   "execution_count": 45,
   "id": "f3340f43-d306-4e61-8207-c81c7617d302",
   "metadata": {},
   "outputs": [],
   "source": [
    "ds = pd.read_csv(\"HousingData.csv\")"
   ]
  },
  {
   "cell_type": "markdown",
   "id": "226d18e0-d268-4b05-b989-7e2c341388cc",
   "metadata": {},
   "source": [
    "## Initial Data Exploration\n",
    "\n",
    "To understand the structure of the dataset, the following operations are performed:\n",
    "- `head()` to view sample rows,\n",
    "- `info()` to check data types and null entries,\n",
    "- `isnull().sum()` to count missing values in each column."
   ]
  },
  {
   "cell_type": "code",
   "execution_count": 46,
   "id": "7e6a24f0-7032-45e1-a745-72d037ffa127",
   "metadata": {},
   "outputs": [
    {
     "data": {
      "text/html": [
       "<div>\n",
       "<style scoped>\n",
       "    .dataframe tbody tr th:only-of-type {\n",
       "        vertical-align: middle;\n",
       "    }\n",
       "\n",
       "    .dataframe tbody tr th {\n",
       "        vertical-align: top;\n",
       "    }\n",
       "\n",
       "    .dataframe thead th {\n",
       "        text-align: right;\n",
       "    }\n",
       "</style>\n",
       "<table border=\"1\" class=\"dataframe\">\n",
       "  <thead>\n",
       "    <tr style=\"text-align: right;\">\n",
       "      <th></th>\n",
       "      <th>CRIM</th>\n",
       "      <th>ZN</th>\n",
       "      <th>INDUS</th>\n",
       "      <th>CHAS</th>\n",
       "      <th>NOX</th>\n",
       "      <th>RM</th>\n",
       "      <th>AGE</th>\n",
       "      <th>DIS</th>\n",
       "      <th>RAD</th>\n",
       "      <th>TAX</th>\n",
       "      <th>PTRATIO</th>\n",
       "      <th>B</th>\n",
       "      <th>LSTAT</th>\n",
       "      <th>MEDV</th>\n",
       "    </tr>\n",
       "  </thead>\n",
       "  <tbody>\n",
       "    <tr>\n",
       "      <th>0</th>\n",
       "      <td>0.00632</td>\n",
       "      <td>18.0</td>\n",
       "      <td>2.31</td>\n",
       "      <td>0.0</td>\n",
       "      <td>0.538</td>\n",
       "      <td>6.575</td>\n",
       "      <td>65.2</td>\n",
       "      <td>4.0900</td>\n",
       "      <td>1</td>\n",
       "      <td>296</td>\n",
       "      <td>15.3</td>\n",
       "      <td>396.90</td>\n",
       "      <td>4.98</td>\n",
       "      <td>24.0</td>\n",
       "    </tr>\n",
       "    <tr>\n",
       "      <th>1</th>\n",
       "      <td>0.02731</td>\n",
       "      <td>0.0</td>\n",
       "      <td>7.07</td>\n",
       "      <td>0.0</td>\n",
       "      <td>0.469</td>\n",
       "      <td>6.421</td>\n",
       "      <td>78.9</td>\n",
       "      <td>4.9671</td>\n",
       "      <td>2</td>\n",
       "      <td>242</td>\n",
       "      <td>17.8</td>\n",
       "      <td>396.90</td>\n",
       "      <td>9.14</td>\n",
       "      <td>21.6</td>\n",
       "    </tr>\n",
       "    <tr>\n",
       "      <th>2</th>\n",
       "      <td>0.02729</td>\n",
       "      <td>0.0</td>\n",
       "      <td>7.07</td>\n",
       "      <td>0.0</td>\n",
       "      <td>0.469</td>\n",
       "      <td>7.185</td>\n",
       "      <td>61.1</td>\n",
       "      <td>4.9671</td>\n",
       "      <td>2</td>\n",
       "      <td>242</td>\n",
       "      <td>17.8</td>\n",
       "      <td>392.83</td>\n",
       "      <td>4.03</td>\n",
       "      <td>34.7</td>\n",
       "    </tr>\n",
       "    <tr>\n",
       "      <th>3</th>\n",
       "      <td>0.03237</td>\n",
       "      <td>0.0</td>\n",
       "      <td>2.18</td>\n",
       "      <td>0.0</td>\n",
       "      <td>0.458</td>\n",
       "      <td>6.998</td>\n",
       "      <td>45.8</td>\n",
       "      <td>6.0622</td>\n",
       "      <td>3</td>\n",
       "      <td>222</td>\n",
       "      <td>18.7</td>\n",
       "      <td>394.63</td>\n",
       "      <td>2.94</td>\n",
       "      <td>33.4</td>\n",
       "    </tr>\n",
       "    <tr>\n",
       "      <th>4</th>\n",
       "      <td>0.06905</td>\n",
       "      <td>0.0</td>\n",
       "      <td>2.18</td>\n",
       "      <td>0.0</td>\n",
       "      <td>0.458</td>\n",
       "      <td>7.147</td>\n",
       "      <td>54.2</td>\n",
       "      <td>6.0622</td>\n",
       "      <td>3</td>\n",
       "      <td>222</td>\n",
       "      <td>18.7</td>\n",
       "      <td>396.90</td>\n",
       "      <td>NaN</td>\n",
       "      <td>36.2</td>\n",
       "    </tr>\n",
       "  </tbody>\n",
       "</table>\n",
       "</div>"
      ],
      "text/plain": [
       "      CRIM    ZN  INDUS  CHAS    NOX     RM   AGE     DIS  RAD  TAX  PTRATIO  \\\n",
       "0  0.00632  18.0   2.31   0.0  0.538  6.575  65.2  4.0900    1  296     15.3   \n",
       "1  0.02731   0.0   7.07   0.0  0.469  6.421  78.9  4.9671    2  242     17.8   \n",
       "2  0.02729   0.0   7.07   0.0  0.469  7.185  61.1  4.9671    2  242     17.8   \n",
       "3  0.03237   0.0   2.18   0.0  0.458  6.998  45.8  6.0622    3  222     18.7   \n",
       "4  0.06905   0.0   2.18   0.0  0.458  7.147  54.2  6.0622    3  222     18.7   \n",
       "\n",
       "        B  LSTAT  MEDV  \n",
       "0  396.90   4.98  24.0  \n",
       "1  396.90   9.14  21.6  \n",
       "2  392.83   4.03  34.7  \n",
       "3  394.63   2.94  33.4  \n",
       "4  396.90    NaN  36.2  "
      ]
     },
     "execution_count": 46,
     "metadata": {},
     "output_type": "execute_result"
    }
   ],
   "source": [
    "ds.head()"
   ]
  },
  {
   "cell_type": "code",
   "execution_count": 47,
   "id": "c9913e97-3119-4c94-92f5-f2922c691e0b",
   "metadata": {},
   "outputs": [
    {
     "name": "stdout",
     "output_type": "stream",
     "text": [
      "<class 'pandas.core.frame.DataFrame'>\n",
      "RangeIndex: 506 entries, 0 to 505\n",
      "Data columns (total 14 columns):\n",
      " #   Column   Non-Null Count  Dtype  \n",
      "---  ------   --------------  -----  \n",
      " 0   CRIM     486 non-null    float64\n",
      " 1   ZN       486 non-null    float64\n",
      " 2   INDUS    486 non-null    float64\n",
      " 3   CHAS     486 non-null    float64\n",
      " 4   NOX      506 non-null    float64\n",
      " 5   RM       506 non-null    float64\n",
      " 6   AGE      486 non-null    float64\n",
      " 7   DIS      506 non-null    float64\n",
      " 8   RAD      506 non-null    int64  \n",
      " 9   TAX      506 non-null    int64  \n",
      " 10  PTRATIO  506 non-null    float64\n",
      " 11  B        506 non-null    float64\n",
      " 12  LSTAT    486 non-null    float64\n",
      " 13  MEDV     506 non-null    float64\n",
      "dtypes: float64(12), int64(2)\n",
      "memory usage: 55.5 KB\n"
     ]
    }
   ],
   "source": [
    "ds.info()"
   ]
  },
  {
   "cell_type": "code",
   "execution_count": 48,
   "id": "d1c3156d-2129-434d-860d-9605e6ad7626",
   "metadata": {},
   "outputs": [
    {
     "data": {
      "text/plain": [
       "CRIM       20\n",
       "ZN         20\n",
       "INDUS      20\n",
       "CHAS       20\n",
       "NOX         0\n",
       "RM          0\n",
       "AGE        20\n",
       "DIS         0\n",
       "RAD         0\n",
       "TAX         0\n",
       "PTRATIO     0\n",
       "B           0\n",
       "LSTAT      20\n",
       "MEDV        0\n",
       "dtype: int64"
      ]
     },
     "execution_count": 48,
     "metadata": {},
     "output_type": "execute_result"
    }
   ],
   "source": [
    "ds.isnull().sum()"
   ]
  },
  {
   "cell_type": "markdown",
   "id": "5090ae8a-7377-4c52-8676-75ce0cf6d2a8",
   "metadata": {},
   "source": [
    "## Data Cleaning\n",
    "\n",
    "Missing values are imputed using the **median** of each column to ensure the model is not biased by extreme values. A post-check is conducted to verify that all missing data has been addressed.\n"
   ]
  },
  {
   "cell_type": "code",
   "execution_count": 49,
   "id": "2e5f006b-2c38-4a87-94ef-65fc9513547a",
   "metadata": {},
   "outputs": [],
   "source": [
    "for col in ds.columns:\n",
    "    if ds[col].dtype in ['float64', 'int64'] and ds[col].isnull().sum() > 0:\n",
    "        ds[col] = ds[col].fillna(ds[col].median())"
   ]
  },
  {
   "cell_type": "code",
   "execution_count": 50,
   "id": "fb90d27b-88b0-422b-90c7-388e4a2ecfe2",
   "metadata": {},
   "outputs": [
    {
     "data": {
      "text/plain": [
       "CRIM       0\n",
       "ZN         0\n",
       "INDUS      0\n",
       "CHAS       0\n",
       "NOX        0\n",
       "RM         0\n",
       "AGE        0\n",
       "DIS        0\n",
       "RAD        0\n",
       "TAX        0\n",
       "PTRATIO    0\n",
       "B          0\n",
       "LSTAT      0\n",
       "MEDV       0\n",
       "dtype: int64"
      ]
     },
     "execution_count": 50,
     "metadata": {},
     "output_type": "execute_result"
    }
   ],
   "source": [
    "ds.isnull().sum()"
   ]
  },
  {
   "cell_type": "markdown",
   "id": "5ffc6db3-8448-489f-b533-1c9e85e7f7e5",
   "metadata": {},
   "source": [
    "## Feature Identification and Encoding\n",
    "\n",
    "The dataset is examined for **categorical features**, though most columns are numerical. If present, categorical features would typically be encoded using label encoding or one-hot encoding, though this step is skipped if none are found.\n"
   ]
  },
  {
   "cell_type": "code",
   "execution_count": 51,
   "id": "269307f0-65d7-46bc-92cd-34d4e56e1338",
   "metadata": {},
   "outputs": [
    {
     "name": "stdout",
     "output_type": "stream",
     "text": [
      "Categorical columns: []\n"
     ]
    }
   ],
   "source": [
    "categorical_cols = []\n",
    "for col in ds.columns:\n",
    "    if ds[col].dtype == 'object':\n",
    "        categorical_cols.append(col)\n",
    "\n",
    "print(\"Categorical columns:\", categorical_cols)\n"
   ]
  },
  {
   "cell_type": "markdown",
   "id": "44471dd6-c90f-4379-8235-7de026371f49",
   "metadata": {},
   "source": [
    "## Feature-Target Separation and Normalization\n",
    "\n",
    "- The features (`X`) are separated from the target (`y`), which is the `MEDV` (Median Value of Owner-Occupied Homes).\n",
    "- Features are normalized using **Standard Scaler** to ensure consistent scaling across all variables.\n"
   ]
  },
  {
   "cell_type": "code",
   "execution_count": 52,
   "id": "3a5afc37-d197-4cec-a8b1-db5fc150a37e",
   "metadata": {},
   "outputs": [],
   "source": [
    "from sklearn.preprocessing import StandardScaler\n",
    "\n",
    "# Features and target (assume 'MEDV' is the target which stands for Median Value)\n",
    "features = ds.drop('MEDV', axis=1)\n",
    "target = ds['MEDV']\n",
    "\n",
    "# Apply Z-score normalization (Standardization)\n",
    "scaler = StandardScaler()\n",
    "X_normalized = pd.DataFrame(scaler.fit_transform(features), columns=features.columns)"
   ]
  },
  {
   "cell_type": "markdown",
   "id": "760de3ce-f98d-4c4b-9103-39371867b704",
   "metadata": {},
   "source": [
    "## Train-Test Split\n",
    "\n",
    "The dataset is split into **80% training data** and **20% testing data** using `train_test_split()` from `sklearn.model_selection`.\n"
   ]
  },
  {
   "cell_type": "code",
   "execution_count": 53,
   "id": "ee227336-2c6d-43db-95bb-30d463e519a0",
   "metadata": {},
   "outputs": [],
   "source": [
    "X = X_normalized\n",
    "y = target\n",
    "\n",
    "from sklearn.model_selection import train_test_split\n",
    "\n",
    "# Split the data into training and testing sets (80% train, 20% test)\n",
    "X_train, X_test, y_train, y_test = train_test_split(X, y, test_size=0.2, random_state=42)\n",
    "\n",
    "# Convert to numpy arrays and reshape y\n",
    "X_train = X_train.values\n",
    "X_test = X_test.values\n",
    "y_train = y_train.values.reshape(-1, 1)\n",
    "y_test = y_test.values.reshape(-1, 1)"
   ]
  },
  {
   "cell_type": "markdown",
   "id": "4878a623-843b-4512-bad5-8250d703a1a3",
   "metadata": {},
   "source": [
    "## Custom Linear Regression (Gradient Descent)\n",
    "\n",
    "A custom Linear Regression class is implemented using gradient descent. This includes:\n",
    "- Initializing weights and bias,\n",
    "- Computing gradients for cost function minimization,\n",
    "- Updating weights iteratively over epochs.\n",
    "\n",
    "The model is trained on the normalized training data and tested on the unseen test data."
   ]
  },
  {
   "cell_type": "code",
   "execution_count": 54,
   "id": "736205e6-df37-435b-9344-81078d69b39f",
   "metadata": {},
   "outputs": [],
   "source": [
    "class LinearRegression:\n",
    "    def __init__(self, learning_rate=0.01, n_iterations=1000):\n",
    "        self.learning_rate = learning_rate\n",
    "        self.n_iterations = n_iterations\n",
    "        self.weights = None\n",
    "        self.bias = None\n",
    "        \n",
    "    def fit(self, X, y):\n",
    "        n_samples, n_features = X.shape\n",
    "        self.weights = np.zeros((n_features, 1))\n",
    "        self.bias = 0\n",
    "        \n",
    "        # Gradient descent\n",
    "        for _ in range(self.n_iterations):\n",
    "            y_pred = np.dot(X, self.weights) + self.bias\n",
    "            \n",
    "            # Compute gradients\n",
    "            dw = (1/n_samples) * np.dot(X.T, (y_pred - y))\n",
    "            db = (1/n_samples) * np.sum(y_pred - y)\n",
    "            \n",
    "            # Update parameters\n",
    "            self.weights -= self.learning_rate * dw\n",
    "            self.bias -= self.learning_rate * db\n",
    "    \n",
    "    def predict(self, X):\n",
    "        return np.dot(X, self.weights) + self.bias"
   ]
  },
  {
   "cell_type": "markdown",
   "id": "1d598cca-a8ea-4ac5-be18-953e551ba3a6",
   "metadata": {},
   "source": [
    "\n",
    "##  Random Forest Regression\n",
    "\n",
    "A **Random Forest Regressor** is trained on the same dataset. Random Forest is an ensemble model that reduces overfitting and improves performance by combining predictions from multiple decision trees.\n",
    "\n",
    "The model is evaluated using:\n",
    "- MSE\n",
    "- RMSE\n",
    "- **R² Score** for overall model accuracy\n"
   ]
  },
  {
   "cell_type": "code",
   "execution_count": 55,
   "id": "c50a9d45-c7d2-40dc-9e7f-0871d4379385",
   "metadata": {},
   "outputs": [],
   "source": [
    "class DecisionTreeRegressor:\n",
    "    def __init__(self, max_depth=None, min_samples_split=2):\n",
    "        self.max_depth = max_depth\n",
    "        self.min_samples_split = min_samples_split\n",
    "        self.tree = None\n",
    "        self.feature_importances_ = None\n",
    "        \n",
    "    def _mse(self, y):\n",
    "        if len(y) == 0:\n",
    "            return 0\n",
    "        return np.mean((y - np.mean(y))**2)\n",
    "    \n",
    "    def _best_split(self, X, y):\n",
    "        best_feature, best_threshold = None, None\n",
    "        best_mse = float('inf')\n",
    "        \n",
    "        # Initialize feature importances if not done yet\n",
    "        if self.feature_importances_ is None:\n",
    "            self.feature_importances_ = np.zeros(X.shape[1])\n",
    "        \n",
    "        for feature in range(X.shape[1]):\n",
    "            thresholds = np.unique(X[:, feature])\n",
    "            for threshold in thresholds:\n",
    "                left_indices = X[:, feature] <= threshold\n",
    "                right_indices = ~left_indices\n",
    "                \n",
    "                if len(y[left_indices]) < self.min_samples_split or len(y[right_indices]) < self.min_samples_split:\n",
    "                    continue\n",
    "                    \n",
    "                current_mse = (self._mse(y[left_indices]) * len(y[left_indices]) + \n",
    "                              self._mse(y[right_indices]) * len(y[right_indices])) / len(y)\n",
    "                \n",
    "                if current_mse < best_mse:\n",
    "                    best_mse = current_mse\n",
    "                    best_feature = feature\n",
    "                    best_threshold = threshold\n",
    "        \n",
    "        # Update feature importance\n",
    "        if best_feature is not None:\n",
    "            original_mse = self._mse(y)\n",
    "            left_indices = X[:, best_feature] <= best_threshold\n",
    "            left_mse = self._mse(y[left_indices])\n",
    "            right_mse = self._mse(y[~left_indices])\n",
    "            mse_reduction = original_mse - (left_mse * len(y[left_indices]) + right_mse * len(y[~left_indices])) / len(y)\n",
    "            self.feature_importances_[best_feature] += mse_reduction\n",
    "        \n",
    "        return best_feature, best_threshold, best_mse\n",
    "    \n",
    "    def _build_tree(self, X, y, depth=0):\n",
    "        if (self.max_depth is not None and depth >= self.max_depth) or len(y) < self.min_samples_split:\n",
    "            return np.mean(y)\n",
    "        \n",
    "        feature, threshold, mse = self._best_split(X, y)\n",
    "        if feature is None:\n",
    "            return np.mean(y)\n",
    "        \n",
    "        left_indices = X[:, feature] <= threshold\n",
    "        right_indices = ~left_indices\n",
    "        \n",
    "        left_subtree = self._build_tree(X[left_indices], y[left_indices], depth+1)\n",
    "        right_subtree = self._build_tree(X[right_indices], y[right_indices], depth+1)\n",
    "        \n",
    "        return {'feature': feature, 'threshold': threshold, \n",
    "                'left': left_subtree, 'right': right_subtree}\n",
    "    \n",
    "    def fit(self, X, y):\n",
    "        self.feature_importances_ = np.zeros(X.shape[1])  # Initialize here\n",
    "        self.tree = self._build_tree(X, y)\n",
    "        # Normalize feature importances\n",
    "        if np.sum(self.feature_importances_) > 0:\n",
    "            self.feature_importances_ /= np.sum(self.feature_importances_)\n",
    "    \n",
    "    def _predict_sample(self, x, node):\n",
    "        if isinstance(node, np.float64):\n",
    "            return node\n",
    "        \n",
    "        if x[node['feature']] <= node['threshold']:\n",
    "            return self._predict_sample(x, node['left'])\n",
    "        else:\n",
    "            return self._predict_sample(x, node['right'])\n",
    "    \n",
    "    def predict(self, X):\n",
    "        return np.array([self._predict_sample(x, self.tree) for x in X]).reshape(-1, 1)"
   ]
  },
  {
   "cell_type": "markdown",
   "id": "6db23328-f093-4d1c-b4f9-56ffbdcafe9e",
   "metadata": {},
   "source": [
    "## XGBoost Regression\n",
    "\n",
    "An **XGBoost Regressor**, known for its speed and high performance, is trained on the same data. XGBoost handles both linear and non-linear relationships effectively and often outperforms other models in regression tasks.\n",
    "\n",
    "Performance is again measured using:\n",
    "- MSE\n",
    "- RMSE\n",
    "- R² Score\n"
   ]
  },
  {
   "cell_type": "code",
   "execution_count": 56,
   "id": "33a19935-ef4d-440f-8d0a-85950990dfa4",
   "metadata": {},
   "outputs": [],
   "source": [
    "class XGBoostRegressor:\n",
    "    def __init__(self, n_estimators=100, learning_rate=0.1, max_depth=3, min_samples_split=2):\n",
    "        self.n_estimators = n_estimators\n",
    "        self.learning_rate = learning_rate\n",
    "        self.max_depth = max_depth\n",
    "        self.min_samples_split = min_samples_split\n",
    "        self.trees = []\n",
    "        self.initial_pred = None\n",
    "        \n",
    "    def fit(self, X, y):\n",
    "        # Initial prediction is the mean\n",
    "        self.initial_pred = np.mean(y)\n",
    "        residuals = y - self.initial_pred\n",
    "        \n",
    "        for _ in range(self.n_estimators):\n",
    "            tree = DecisionTreeRegressor(max_depth=self.max_depth, \n",
    "                                      min_samples_split=self.min_samples_split)\n",
    "            tree.fit(X, residuals)\n",
    "            \n",
    "            # Update residuals - fix the shape issue here\n",
    "            predictions = tree.predict(X).flatten()  # Flatten to 1D array\n",
    "            residuals = (residuals.flatten() - self.learning_rate * predictions).reshape(-1, 1)\n",
    "            \n",
    "            self.trees.append((tree, self.learning_rate))\n",
    "    \n",
    "    def predict(self, X):\n",
    "        pred = np.full((X.shape[0], 1), self.initial_pred)\n",
    "        for tree, lr in self.trees:\n",
    "            pred += lr * tree.predict(X)\n",
    "        return pred"
   ]
  },
  {
   "cell_type": "markdown",
   "id": "d57cde72-fa47-4d11-bbe6-059092caea74",
   "metadata": {},
   "source": [
    "## Models Evaluation\n",
    "\n",
    "Predictions are made on the test set, and performance is evaluated using:\n",
    "- **Mean Squared Error (MSE)**\n",
    "- **Root Mean Squared Error (RMSE)**\n",
    "\n",
    "These metrics provide insight into how far predictions deviate from actual values.\n"
   ]
  },
  {
   "cell_type": "code",
   "execution_count": 57,
   "id": "73ecdfac-80f7-469c-852a-9fb385e38bb3",
   "metadata": {},
   "outputs": [
    {
     "name": "stdout",
     "output_type": "stream",
     "text": [
      "Training Linear Regression...\n",
      "Training Random Forest...\n",
      "Training XGBoost...\n",
      "\n",
      "Model Performance:\n",
      "Linear Regression - RMSE: 5.0749, R²: 0.6488\n",
      "Random Forest - RMSE: 5.0405, R²: 0.6535\n",
      "XGBoost - RMSE: 2.6023, R²: 0.9077\n"
     ]
    }
   ],
   "source": [
    "def rmse(y_true, y_pred):\n",
    "    return np.sqrt(np.mean((y_true - y_pred)**2))\n",
    "\n",
    "def r2_score(y_true, y_pred):\n",
    "    ss_res = np.sum((y_true - y_pred)**2)\n",
    "    ss_tot = np.sum((y_true - np.mean(y_true))**2)\n",
    "    return 1 - (ss_res / ss_tot)\n",
    "\n",
    "# Initialize models\n",
    "lr = LinearRegression(learning_rate=0.01, n_iterations=1000)\n",
    "rf = RandomForestRegressor(n_estimators=100, max_depth=5)\n",
    "xgb = XGBoostRegressor(n_estimators=100, learning_rate=0.1, max_depth=3)\n",
    "\n",
    "# Train models\n",
    "print(\"Training Linear Regression...\")\n",
    "lr.fit(X_train, y_train)\n",
    "\n",
    "print(\"Training Random Forest...\")\n",
    "rf.fit(X_train, y_train.ravel())\n",
    "\n",
    "print(\"Training XGBoost...\")\n",
    "xgb.fit(X_train, y_train.ravel())\n",
    "\n",
    "# Make predictions\n",
    "lr_pred = lr.predict(X_test)\n",
    "rf_pred = rf.predict(X_test)\n",
    "xgb_pred = xgb.predict(X_test)\n",
    "\n",
    "# Evaluate models\n",
    "print(\"\\nModel Performance:\")\n",
    "print(\"Linear Regression - RMSE: {:.4f}, R²: {:.4f}\".format(\n",
    "    rmse(y_test, lr_pred), r2_score(y_test, lr_pred)))\n",
    "print(\"Random Forest - RMSE: {:.4f}, R²: {:.4f}\".format(\n",
    "    rmse(y_test, rf_pred), r2_score(y_test, rf_pred)))\n",
    "print(\"XGBoost - RMSE: {:.4f}, R²: {:.4f}\".format(\n",
    "    rmse(y_test, xgb_pred), r2_score(y_test, xgb_pred)))"
   ]
  },
  {
   "cell_type": "code",
   "execution_count": 58,
   "id": "e25df684-a14c-448e-b996-352dc5d1d3b0",
   "metadata": {},
   "outputs": [
    {
     "data": {
      "image/png": "[encoded data removed]",
      "text/plain": [
       "<Figure size 1200x600 with 1 Axes>"
      ]
     },
     "metadata": {},
     "output_type": "display_data"
    }
   ],
   "source": [
    "def plot_feature_importance(model, feature_names, title):\n",
    "    \"\"\"\n",
    "    Calculate and plot feature importance for our custom Random Forest\n",
    "    \n",
    "    Parameters:\n",
    "    model: Our trained RandomForestRegressor\n",
    "    feature_names: List of feature names\n",
    "    title: Plot title\n",
    "    \"\"\"\n",
    "    # Initialize importance array\n",
    "    importances = np.zeros(len(feature_names))\n",
    "    \n",
    "    # Calculate importance based on feature usage across all trees\n",
    "    for tree in model.trees:\n",
    "        # This counts how many times each feature was used in splits\n",
    "        # In a full implementation, we would track the actual importance (MSE reduction)\n",
    "        for i in tree.feature_indices:\n",
    "            importances[i] += 1\n",
    "    \n",
    "    # Normalize by number of trees\n",
    "    importances/=len(model.trees)\n",
    "    \n",
    "    # Sort features by importance\n",
    "    indices = np.argsort(importances)[::-1]\n",
    "    \n",
    "    # Plot\n",
    "    plt.figure(figsize=(12, 6))\n",
    "    plt.title(title)\n",
    "    plt.bar(range(len(feature_names)), importances[indices], align=\"center\")\n",
    "    plt.xticks(range(len(feature_names)), [feature_names[i] for i in indices], rotation=90)\n",
    "    plt.xlabel(\"Feature\")\n",
    "    plt.ylabel(\"Relative Importance\")\n",
    "    plt.tight_layout()\n",
    "    plt.show()\n",
    "\n",
    "# Get feature names (excluding target)\n",
    "feature_names = ds.drop('MEDV', axis=1).columns.tolist()\n",
    "\n",
    "# Plot feature importance for Random Forest\n",
    "plot_feature_importance(rf, feature_names, \"Random Forest Feature Importance\")"
   ]
  },
  {
   "cell_type": "code",
   "execution_count": 59,
   "id": "d6d24f82-711a-4b47-b7f7-adba39e45fc7",
   "metadata": {},
   "outputs": [
    {
     "data": {
      "image/png": "[encoded data removed]",
      "text/plain": [
       "<Figure size 1200x600 with 1 Axes>"
      ]
     },
     "metadata": {},
     "output_type": "display_data"
    }
   ],
   "source": [
    "class DecisionTreeRegressor:\n",
    "    def __init__(self, max_depth=None, min_samples_split=2):\n",
    "        self.max_depth = max_depth\n",
    "        self.min_samples_split = min_samples_split\n",
    "        self.tree = None\n",
    "        self.feature_importances_ = None  # Add this to track importance\n",
    "    \n",
    "    # ... [keep all existing methods] ...\n",
    "    \n",
    "    def _build_tree(self, X, y, depth=0):\n",
    "        if (self.max_depth is not None and depth >= self.max_depth) or len(y) < self.min_samples_split:\n",
    "            return np.mean(y)\n",
    "        \n",
    "        feature, threshold, mse = self._best_split(X, y)\n",
    "        if feature is None:\n",
    "            return np.mean(y)\n",
    "        \n",
    "        # Initialize feature_importances_ if not done yet\n",
    "        if self.feature_importances_ is None:\n",
    "            self.feature_importances_ = np.zeros(X.shape[1])\n",
    "        \n",
    "        # Track this feature's importance (using MSE reduction as proxy)\n",
    "        left_indices = X[:, feature] <= threshold\n",
    "        original_mse = self._mse(y)\n",
    "        left_mse = self._mse(y[left_indices])\n",
    "        right_mse = self._mse(y[~left_indices])\n",
    "        mse_reduction = original_mse - (left_mse * len(y[left_indices]) + right_mse * len(y[~left_indices])) / len(y)\n",
    "        \n",
    "        self.feature_importances_[feature] += mse_reduction\n",
    "        \n",
    "        left_subtree = self._build_tree(X[left_indices], y[left_indices], depth+1)\n",
    "        right_subtree = self._build_tree(X[~left_indices], y[~left_indices], depth+1)\n",
    "        \n",
    "        return {'feature': feature, 'threshold': threshold, \n",
    "                'left': left_subtree, 'right': right_subtree}\n",
    "\n",
    "def plot_xgboost_feature_importance(model, feature_names, title):\n",
    "    \"\"\"\n",
    "    Calculate and plot feature importance for our custom XGBoost\n",
    "    \n",
    "    Parameters:\n",
    "    model: Our trained XGBoostRegressor\n",
    "    feature_names: List of feature names\n",
    "    title: Plot title\n",
    "    \"\"\"\n",
    "    # Aggregate feature importance across all trees\n",
    "    importances = np.zeros(len(feature_names))\n",
    "    \n",
    "    for tree, weight in model.trees:\n",
    "        if tree.feature_importances_ is not None:\n",
    "            importances += tree.feature_importances_ * weight\n",
    "    \n",
    "    # Normalize\n",
    "    importances /= len(model.trees)\n",
    "    \n",
    "    # Sort features by importance\n",
    "    indices = np.argsort(importances)[::-1]\n",
    "    \n",
    "    # Plot\n",
    "    plt.figure(figsize=(12, 6))\n",
    "    plt.title(title)\n",
    "    plt.bar(range(len(feature_names)), importances[indices], align=\"center\")\n",
    "    plt.xticks(range(len(feature_names)), [feature_names[i] for i in indices], rotation=90)\n",
    "    plt.xlabel(\"Feature\")\n",
    "    plt.ylabel(\"Relative Importance\")\n",
    "    plt.tight_layout()\n",
    "    plt.show()\n",
    "\n",
    "# Plot feature importance for XGBoost\n",
    "plot_xgboost_feature_importance(xgb, feature_names, \"XGBoost Feature Importance\")"
   ]
  },
  {
   "cell_type": "code",
   "execution_count": 60,
   "id": "40935d62-35e6-44f7-a5d9-8100d56fff9c",
   "metadata": {},
   "outputs": [
    {
     "data": {
      "image/png": "[encoded data removed]",
      "text/plain": [
       "<Figure size 1200x600 with 1 Axes>"
      ]
     },
     "metadata": {},
     "output_type": "display_data"
    },
    {
     "data": {
      "image/png": "[encoded data removed]",
      "text/plain": [
       "<Figure size 1200x600 with 1 Axes>"
      ]
     },
     "metadata": {},
     "output_type": "display_data"
    }
   ],
   "source": [
    "# Get feature names\n",
    "feature_names = ds.drop('MEDV', axis=1).columns.tolist()\n",
    "\n",
    "# Plot for Random Forest\n",
    "plot_feature_importance(rf, feature_names, \"Random Forest Feature Importance\")\n",
    "\n",
    "# Plot for XGBoost\n",
    "plot_xgboost_feature_importance(xgb, feature_names, \"XGBoost Feature Importance\")"
   ]
  },
  {
   "cell_type": "markdown",
   "id": "e5790dad-0463-4b4d-8ee5-6d49c0f4b958",
   "metadata": {},
   "source": [
    "## Conclusion\n",
    "\n",
    "This project demonstrates a complete workflow for solving a regression problem in housing price prediction. Key takeaways:\n",
    "\n",
    "- **Data cleaning and normalization** are critical for ensuring reliable predictions.\n",
    "- A **custom linear regression** model gives foundational insights into gradient descent.\n",
    "- **Random Forest** and **XGBoost** offer improved accuracy due to their ensemble and boosting strategies.\n",
    "- Among all, **XGBoost** typically achieves the best performance in terms of prediction accuracy and generalization.\n",
    "\n",
    "This modular approach allows for further extensions like hyperparameter tuning, feature engineering, or deploying the best model into a web app for user interaction."
   ]
  }
 ],
 "metadata": {
  "kernelspec": {
   "display_name": "Python 3 (ipykernel)",
   "language": "python",
   "name": "python3"
  },
  "language_info": {
   "codemirror_mode": {
    "name": "ipython",
    "version": 3
   },
   "file_extension": ".py",
   "mimetype": "text/x-python",
   "name": "python",
   "nbconvert_exporter": "python",
   "pygments_lexer": "ipython3",
   "version": "3.13.3"
  }
 },
 "nbformat": 4,
 "nbformat_minor": 5
}
